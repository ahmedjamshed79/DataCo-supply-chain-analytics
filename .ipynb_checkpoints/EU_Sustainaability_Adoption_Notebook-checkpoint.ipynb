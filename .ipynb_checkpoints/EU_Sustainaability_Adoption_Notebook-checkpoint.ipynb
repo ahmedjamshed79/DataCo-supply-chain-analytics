{
 "cells": [
  {
   "cell_type": "markdown",
   "id": "1b73f03b",
   "metadata": {},
   "source": [
    "## <div style=\"border-radius:0px; border:#363636 solid; padding: 15px; background-color: #242F40; font-size:100%; text-align:left; color: #FFFFFF\">Import Libraries</div>"
   ]
  },
  {
   "cell_type": "code",
   "execution_count": 2,
   "id": "990a6056",
   "metadata": {},
   "outputs": [
    {
     "name": "stderr",
     "output_type": "stream",
     "text": [
      "/var/folders/j2/980rdpms4_3bg6wfk9t4lhtc0000gn/T/ipykernel_26573/657306501.py:1: DeprecationWarning: \n",
      "Pyarrow will become a required dependency of pandas in the next major release of pandas (pandas 3.0),\n",
      "(to allow more performant data types, such as the Arrow string type, and better interoperability with other libraries)\n",
      "but was not found to be installed on your system.\n",
      "If this would cause problems for you,\n",
      "please provide us feedback at https://github.com/pandas-dev/pandas/issues/54466\n",
      "        \n",
      "  import pandas as pd\n"
     ]
    }
   ],
   "source": [
    "import pandas as pd\n",
    "import seaborn as sns\n",
    "import matplotlib.pyplot as plt\n",
    "from scipy.stats import zscore\n",
    "import numpy as np\n",
    "\n",
    "# Apply seaborn theme\n",
    "sns.set_theme()\n",
    "sns.set_style(\"whitegrid\")"
   ]
  },
  {
   "cell_type": "markdown",
   "id": "6adc8eb1",
   "metadata": {},
   "source": [
    "## <div style=\"border-radius:0px; border:#363636 solid; padding: 15px; background-color: #242F40; font-size:100%; text-align:left; color: #FFFFFF\">Import Dataset</div>"
   ]
  },
  {
   "cell_type": "code",
   "execution_count": 3,
   "id": "b60a12fd",
   "metadata": {},
   "outputs": [],
   "source": [
    "df = pd.read_csv(\"dataset/global-data-on-sustainable-energy.csv\", delimiter=\",\")"
   ]
  },
  {
   "cell_type": "code",
   "execution_count": 4,
   "id": "d5a6565b",
   "metadata": {},
   "outputs": [
    {
     "data": {
      "text/html": [
       "<div>\n",
       "<style scoped>\n",
       "    .dataframe tbody tr th:only-of-type {\n",
       "        vertical-align: middle;\n",
       "    }\n",
       "\n",
       "    .dataframe tbody tr th {\n",
       "        vertical-align: top;\n",
       "    }\n",
       "\n",
       "    .dataframe thead th {\n",
       "        text-align: right;\n",
       "    }\n",
       "</style>\n",
       "<table border=\"1\" class=\"dataframe\">\n",
       "  <thead>\n",
       "    <tr style=\"text-align: right;\">\n",
       "      <th></th>\n",
       "      <th>Entity</th>\n",
       "      <th>Year</th>\n",
       "      <th>Access to electricity (% of population)</th>\n",
       "      <th>Access to clean fuels for cooking</th>\n",
       "      <th>Renewable-electricity-generating-capacity-per-capita</th>\n",
       "      <th>Financial flows to developing countries (US $)</th>\n",
       "      <th>Renewable energy share in the total final energy consumption (%)</th>\n",
       "      <th>Electricity from fossil fuels (TWh)</th>\n",
       "      <th>Electricity from nuclear (TWh)</th>\n",
       "      <th>Electricity from renewables (TWh)</th>\n",
       "      <th>...</th>\n",
       "      <th>Primary energy consumption per capita (kWh/person)</th>\n",
       "      <th>Energy intensity level of primary energy (MJ/$2017 PPP GDP)</th>\n",
       "      <th>Value_co2_emissions_kt_by_country</th>\n",
       "      <th>Renewables (% equivalent primary energy)</th>\n",
       "      <th>gdp_growth</th>\n",
       "      <th>gdp_per_capita</th>\n",
       "      <th>Density\\n(P/Km2)</th>\n",
       "      <th>Land Area(Km2)</th>\n",
       "      <th>Latitude</th>\n",
       "      <th>Longitude</th>\n",
       "    </tr>\n",
       "  </thead>\n",
       "  <tbody>\n",
       "    <tr>\n",
       "      <th>0</th>\n",
       "      <td>Afghanistan</td>\n",
       "      <td>2000</td>\n",
       "      <td>1.613591</td>\n",
       "      <td>6.2</td>\n",
       "      <td>9.22</td>\n",
       "      <td>20000.0</td>\n",
       "      <td>44.99</td>\n",
       "      <td>0.16</td>\n",
       "      <td>0.0</td>\n",
       "      <td>0.31</td>\n",
       "      <td>...</td>\n",
       "      <td>302.59482</td>\n",
       "      <td>1.64</td>\n",
       "      <td>760.000000</td>\n",
       "      <td>NaN</td>\n",
       "      <td>NaN</td>\n",
       "      <td>NaN</td>\n",
       "      <td>60</td>\n",
       "      <td>652230.0</td>\n",
       "      <td>33.93911</td>\n",
       "      <td>67.709953</td>\n",
       "    </tr>\n",
       "    <tr>\n",
       "      <th>1</th>\n",
       "      <td>Afghanistan</td>\n",
       "      <td>2001</td>\n",
       "      <td>4.074574</td>\n",
       "      <td>7.2</td>\n",
       "      <td>8.86</td>\n",
       "      <td>130000.0</td>\n",
       "      <td>45.60</td>\n",
       "      <td>0.09</td>\n",
       "      <td>0.0</td>\n",
       "      <td>0.50</td>\n",
       "      <td>...</td>\n",
       "      <td>236.89185</td>\n",
       "      <td>1.74</td>\n",
       "      <td>730.000000</td>\n",
       "      <td>NaN</td>\n",
       "      <td>NaN</td>\n",
       "      <td>NaN</td>\n",
       "      <td>60</td>\n",
       "      <td>652230.0</td>\n",
       "      <td>33.93911</td>\n",
       "      <td>67.709953</td>\n",
       "    </tr>\n",
       "    <tr>\n",
       "      <th>2</th>\n",
       "      <td>Afghanistan</td>\n",
       "      <td>2002</td>\n",
       "      <td>9.409158</td>\n",
       "      <td>8.2</td>\n",
       "      <td>8.47</td>\n",
       "      <td>3950000.0</td>\n",
       "      <td>37.83</td>\n",
       "      <td>0.13</td>\n",
       "      <td>0.0</td>\n",
       "      <td>0.56</td>\n",
       "      <td>...</td>\n",
       "      <td>210.86215</td>\n",
       "      <td>1.40</td>\n",
       "      <td>1029.999971</td>\n",
       "      <td>NaN</td>\n",
       "      <td>NaN</td>\n",
       "      <td>179.426579</td>\n",
       "      <td>60</td>\n",
       "      <td>652230.0</td>\n",
       "      <td>33.93911</td>\n",
       "      <td>67.709953</td>\n",
       "    </tr>\n",
       "    <tr>\n",
       "      <th>3</th>\n",
       "      <td>Afghanistan</td>\n",
       "      <td>2003</td>\n",
       "      <td>14.738506</td>\n",
       "      <td>9.5</td>\n",
       "      <td>8.09</td>\n",
       "      <td>25970000.0</td>\n",
       "      <td>36.66</td>\n",
       "      <td>0.31</td>\n",
       "      <td>0.0</td>\n",
       "      <td>0.63</td>\n",
       "      <td>...</td>\n",
       "      <td>229.96822</td>\n",
       "      <td>1.40</td>\n",
       "      <td>1220.000029</td>\n",
       "      <td>NaN</td>\n",
       "      <td>8.832278</td>\n",
       "      <td>190.683814</td>\n",
       "      <td>60</td>\n",
       "      <td>652230.0</td>\n",
       "      <td>33.93911</td>\n",
       "      <td>67.709953</td>\n",
       "    </tr>\n",
       "    <tr>\n",
       "      <th>4</th>\n",
       "      <td>Afghanistan</td>\n",
       "      <td>2004</td>\n",
       "      <td>20.064968</td>\n",
       "      <td>10.9</td>\n",
       "      <td>7.75</td>\n",
       "      <td>NaN</td>\n",
       "      <td>44.24</td>\n",
       "      <td>0.33</td>\n",
       "      <td>0.0</td>\n",
       "      <td>0.56</td>\n",
       "      <td>...</td>\n",
       "      <td>204.23125</td>\n",
       "      <td>1.20</td>\n",
       "      <td>1029.999971</td>\n",
       "      <td>NaN</td>\n",
       "      <td>1.414118</td>\n",
       "      <td>211.382074</td>\n",
       "      <td>60</td>\n",
       "      <td>652230.0</td>\n",
       "      <td>33.93911</td>\n",
       "      <td>67.709953</td>\n",
       "    </tr>\n",
       "  </tbody>\n",
       "</table>\n",
       "<p>5 rows × 21 columns</p>\n",
       "</div>"
      ],
      "text/plain": [
       "        Entity  Year  Access to electricity (% of population)  \\\n",
       "0  Afghanistan  2000                                 1.613591   \n",
       "1  Afghanistan  2001                                 4.074574   \n",
       "2  Afghanistan  2002                                 9.409158   \n",
       "3  Afghanistan  2003                                14.738506   \n",
       "4  Afghanistan  2004                                20.064968   \n",
       "\n",
       "   Access to clean fuels for cooking  \\\n",
       "0                                6.2   \n",
       "1                                7.2   \n",
       "2                                8.2   \n",
       "3                                9.5   \n",
       "4                               10.9   \n",
       "\n",
       "   Renewable-electricity-generating-capacity-per-capita  \\\n",
       "0                                               9.22      \n",
       "1                                               8.86      \n",
       "2                                               8.47      \n",
       "3                                               8.09      \n",
       "4                                               7.75      \n",
       "\n",
       "   Financial flows to developing countries (US $)  \\\n",
       "0                                         20000.0   \n",
       "1                                        130000.0   \n",
       "2                                       3950000.0   \n",
       "3                                      25970000.0   \n",
       "4                                             NaN   \n",
       "\n",
       "   Renewable energy share in the total final energy consumption (%)  \\\n",
       "0                                              44.99                  \n",
       "1                                              45.60                  \n",
       "2                                              37.83                  \n",
       "3                                              36.66                  \n",
       "4                                              44.24                  \n",
       "\n",
       "   Electricity from fossil fuels (TWh)  Electricity from nuclear (TWh)  \\\n",
       "0                                 0.16                             0.0   \n",
       "1                                 0.09                             0.0   \n",
       "2                                 0.13                             0.0   \n",
       "3                                 0.31                             0.0   \n",
       "4                                 0.33                             0.0   \n",
       "\n",
       "   Electricity from renewables (TWh)  ...  \\\n",
       "0                               0.31  ...   \n",
       "1                               0.50  ...   \n",
       "2                               0.56  ...   \n",
       "3                               0.63  ...   \n",
       "4                               0.56  ...   \n",
       "\n",
       "   Primary energy consumption per capita (kWh/person)  \\\n",
       "0                                          302.59482    \n",
       "1                                          236.89185    \n",
       "2                                          210.86215    \n",
       "3                                          229.96822    \n",
       "4                                          204.23125    \n",
       "\n",
       "   Energy intensity level of primary energy (MJ/$2017 PPP GDP)  \\\n",
       "0                                               1.64             \n",
       "1                                               1.74             \n",
       "2                                               1.40             \n",
       "3                                               1.40             \n",
       "4                                               1.20             \n",
       "\n",
       "   Value_co2_emissions_kt_by_country  \\\n",
       "0                         760.000000   \n",
       "1                         730.000000   \n",
       "2                        1029.999971   \n",
       "3                        1220.000029   \n",
       "4                        1029.999971   \n",
       "\n",
       "   Renewables (% equivalent primary energy)  gdp_growth  gdp_per_capita  \\\n",
       "0                                       NaN         NaN             NaN   \n",
       "1                                       NaN         NaN             NaN   \n",
       "2                                       NaN         NaN      179.426579   \n",
       "3                                       NaN    8.832278      190.683814   \n",
       "4                                       NaN    1.414118      211.382074   \n",
       "\n",
       "   Density\\n(P/Km2) Land Area(Km2)  Latitude  Longitude  \n",
       "0                60       652230.0  33.93911  67.709953  \n",
       "1                60       652230.0  33.93911  67.709953  \n",
       "2                60       652230.0  33.93911  67.709953  \n",
       "3                60       652230.0  33.93911  67.709953  \n",
       "4                60       652230.0  33.93911  67.709953  \n",
       "\n",
       "[5 rows x 21 columns]"
      ]
     },
     "execution_count": 4,
     "metadata": {},
     "output_type": "execute_result"
    }
   ],
   "source": [
    "df.head()"
   ]
  },
  {
   "cell_type": "markdown",
   "id": "6c76170c",
   "metadata": {},
   "source": [
    "## <div style=\"border-radius:0px; border:#363636 solid; padding: 15px; background-color: #242F40; font-size:100%; text-align:left; color: #FFFFFF\">Dataset Info</div>"
   ]
  },
  {
   "cell_type": "code",
   "execution_count": null,
   "id": "53511ccc",
   "metadata": {},
   "outputs": [],
   "source": [
    "df.shape"
   ]
  },
  {
   "cell_type": "code",
   "execution_count": null,
   "id": "46adacac",
   "metadata": {},
   "outputs": [],
   "source": [
    "df.info()"
   ]
  },
  {
   "cell_type": "code",
   "execution_count": null,
   "id": "5c033d81",
   "metadata": {},
   "outputs": [],
   "source": [
    "df.describe()"
   ]
  },
  {
   "cell_type": "markdown",
   "id": "644a5f8f",
   "metadata": {},
   "source": [
    "## <div style=\"border-radius:0px; border:#363636 solid; padding: 15px; background-color: #242F40; font-size:100%; text-align:left; color: #FFFFFF\">Filter European Countries</div>"
   ]
  },
  {
   "cell_type": "code",
   "execution_count": null,
   "id": "5817774b",
   "metadata": {},
   "outputs": [],
   "source": [
    "#List of all the European countries to filter out from the dataset\n",
    "europeanCountries = [\n",
    "    'Albania', 'Andorra', 'Armenia', 'Austria', 'Azerbaijan', 'Belarus',\n",
    "    'Belgium', 'Bosnia and Herzegovina', 'Bulgaria', 'Croatia', 'Cyprus',\n",
    "    'Czech Republic', 'Denmark', 'Estonia', 'Finland', 'France', 'Georgia',\n",
    "    'Germany', 'Greece', 'Hungary', 'Iceland', 'Ireland', 'Italy', 'Kazakhstan',\n",
    "    'Latvia', 'Liechtenstein', 'Lithuania', 'Luxembourg', 'Malta', 'Moldova',\n",
    "    'Monaco', 'Montenegro', 'Netherlands', 'North Macedonia', 'Norway', 'Poland',\n",
    "    'Portugal', 'Romania', 'Russia', 'San Marino', 'Serbia', 'Slovakia', 'Slovenia',\n",
    "    'Spain', 'Sweden', 'Switzerland', 'Turkey', 'Ukraine', 'United Kingdom', 'Vatican City'\n",
    "]"
   ]
  },
  {
   "cell_type": "code",
   "execution_count": null,
   "id": "45453803",
   "metadata": {},
   "outputs": [],
   "source": [
    "# Filter based on whether the 'country' column is in the europeanCountries list\n",
    "eu_df = df[df['Entity'].isin(europeanCountries)]"
   ]
  },
  {
   "cell_type": "code",
   "execution_count": null,
   "id": "3bf71268",
   "metadata": {},
   "outputs": [],
   "source": [
    "#Changing column 'Entity' to 'Country' coz it makes more sense\n",
    "eu_df.rename(columns={'Entity': 'Country'}, inplace=True)"
   ]
  },
  {
   "cell_type": "code",
   "execution_count": null,
   "id": "69bfeb6e",
   "metadata": {},
   "outputs": [],
   "source": [
    "eu_df.columns"
   ]
  },
  {
   "cell_type": "code",
   "execution_count": null,
   "id": "3533cfe3",
   "metadata": {},
   "outputs": [],
   "source": [
    "#Ranaming Density\\n(P/km2) using this method since the other method wasn't working\n",
    "eu_df.columns.values[17] = 'Population Density (P/Km2)'"
   ]
  },
  {
   "cell_type": "code",
   "execution_count": null,
   "id": "169ae04a",
   "metadata": {},
   "outputs": [],
   "source": [
    "eu_df.head()"
   ]
  },
  {
   "cell_type": "code",
   "execution_count": null,
   "id": "7ef38e9e",
   "metadata": {},
   "outputs": [],
   "source": [
    "#Saving filtered dataset with EU countries for future use\n",
    "#eu_df.to_csv(\"./dataset/eu-data-on-sustainable-energy.csv\", index=False)"
   ]
  },
  {
   "cell_type": "markdown",
   "id": "dc451e7e",
   "metadata": {},
   "source": [
    "## <div style=\"border-radius:0px; border:#363636 solid; padding: 15px; background-color: #242F40; font-size:100%; text-align:left; color: #FFFFFF\">Filtered Dataset Info</div>"
   ]
  },
  {
   "cell_type": "code",
   "execution_count": null,
   "id": "ac48f502",
   "metadata": {},
   "outputs": [],
   "source": [
    "eu_df.shape"
   ]
  },
  {
   "cell_type": "code",
   "execution_count": null,
   "id": "910bdce5",
   "metadata": {},
   "outputs": [],
   "source": [
    "eu_df.info()"
   ]
  },
  {
   "cell_type": "code",
   "execution_count": null,
   "id": "39eeb8b0",
   "metadata": {},
   "outputs": [],
   "source": [
    "eu_df.describe()"
   ]
  },
  {
   "cell_type": "markdown",
   "id": "1e0b664a",
   "metadata": {},
   "source": [
    "## <div style=\"border-radius:0px; border:#363636 solid; padding: 15px; background-color: #242F40; font-size:100%; text-align:left; color: #FFFFFF\">Visualizing Null Values</div>"
   ]
  },
  {
   "cell_type": "code",
   "execution_count": null,
   "id": "4011b4bc",
   "metadata": {},
   "outputs": [],
   "source": [
    "euNullValues = eu_df.isnull().T #.T to transpose the dataframe to make columns appear on x axis when creating heatmap\n",
    "euNullValues"
   ]
  },
  {
   "cell_type": "code",
   "execution_count": null,
   "id": "aaaec723",
   "metadata": {},
   "outputs": [],
   "source": [
    "# Plotting a heat map to visualize the occurances of null values\n",
    "# Here yellow cells represents null values\n",
    "plt.figure(figsize=[13,6])\n",
    "sns.heatmap(euNullValues, cbar=False, cmap='viridis', xticklabels=False)\n",
    "\n",
    "plt.show()"
   ]
  },
  {
   "cell_type": "markdown",
   "id": "fc3dfa82",
   "metadata": {},
   "source": [
    "## Dropping Unnecessory columns"
   ]
  },
  {
   "cell_type": "code",
   "execution_count": null,
   "id": "961fd7f1",
   "metadata": {},
   "outputs": [],
   "source": [
    "# List of countries which received financial aid\n",
    "euCountriesReceivedFinancialFlows = eu_df[eu_df[\"Financial flows to developing countries (US $)\"].notnull()][\"Country\"].unique()\n",
    "euCountriesReceivedFinancialFlows"
   ]
  },
  {
   "cell_type": "code",
   "execution_count": null,
   "id": "32aeaac1",
   "metadata": {},
   "outputs": [],
   "source": [
    "euCountriesRenewableCapacityPerCapita = eu_df[eu_df[\"Renewable-electricity-generating-capacity-per-capita\"].notnull()][\"Country\"].unique()\n",
    "euCountriesRenewableCapacityPerCapita"
   ]
  },
  {
   "cell_type": "code",
   "execution_count": null,
   "id": "dfc271ef",
   "metadata": {},
   "outputs": [],
   "source": [
    "# Dropping these column since it contains values for only 5 countries and it's not needed\n",
    "eu_df.drop(['Financial flows to developing countries (US $)','Renewable-electricity-generating-capacity-per-capita'], axis=1, inplace=True)"
   ]
  },
  {
   "cell_type": "markdown",
   "id": "4e4c470a",
   "metadata": {},
   "source": [
    "## Visualizing Null Values Again"
   ]
  },
  {
   "cell_type": "code",
   "execution_count": null,
   "id": "f70a5700",
   "metadata": {},
   "outputs": [],
   "source": [
    "# Plotting a heat map to visualize the occurances of null values\n",
    "# Here yellow cells represents null values\n",
    "plt.figure(figsize=[13,6])\n",
    "sns.heatmap(eu_df.isnull().T, cbar=False, cmap='viridis', xticklabels=False)\n",
    "\n",
    "plt.savefig(\"Heatmap-null-values.png\", dpi=300)\n",
    "plt.show()"
   ]
  },
  {
   "cell_type": "markdown",
   "id": "52138628",
   "metadata": {},
   "source": [
    "## <div style=\"border-radius:0px; border:#363636 solid; padding: 15px; background-color: #242F40; font-size:100%; text-align:left; color: #FFFFFF\">Extracting Essential variables for analysis</div>"
   ]
  },
  {
   "cell_type": "code",
   "execution_count": null,
   "id": "e5d768ad",
   "metadata": {},
   "outputs": [],
   "source": [
    "eu = eu_df[[\n",
    "    \"Country\",\n",
    "    \"Year\",\n",
    "    \"Renewable energy share in the total final energy consumption (%)\",\n",
    "    \"Electricity from nuclear (TWh)\",\n",
    "    \"Electricity from renewables (TWh)\",\n",
    "    \"Low-carbon electricity (% electricity)\",\n",
    "    \"Primary energy consumption per capita (kWh/person)\",\n",
    "    \"Value_co2_emissions_kt_by_country\"\n",
    "]]"
   ]
  },
  {
   "cell_type": "code",
   "execution_count": null,
   "id": "3d62d5fc",
   "metadata": {},
   "outputs": [],
   "source": [
    "eu.head()"
   ]
  },
  {
   "cell_type": "markdown",
   "id": "de48a3a4",
   "metadata": {},
   "source": [
    "## Visualizing Null values for essential columns"
   ]
  },
  {
   "cell_type": "code",
   "execution_count": null,
   "id": "25ca6d3e",
   "metadata": {},
   "outputs": [],
   "source": [
    "# Plotting a heat map to visualize the occurances of null values\n",
    "# Here yellow cells represents null values\n",
    "plt.figure(figsize=[15,7])\n",
    "sns.heatmap(eu.isnull().T, cbar=False, cmap='viridis', xticklabels=False)\n",
    "\n",
    "plt.savefig(\"Heatmap-null-values.png\", dpi=300)\n",
    "plt.show()"
   ]
  },
  {
   "cell_type": "markdown",
   "id": "b293968a",
   "metadata": {},
   "source": [
    "## Statistical measures for essential variables"
   ]
  },
  {
   "cell_type": "code",
   "execution_count": null,
   "id": "d8b5cd10",
   "metadata": {},
   "outputs": [],
   "source": [
    "eu.describe()"
   ]
  },
  {
   "cell_type": "markdown",
   "id": "9933802a",
   "metadata": {},
   "source": [
    "## <div style=\"border-radius:0px; border:#363636 solid; padding: 15px; background-color: #242F40; font-size:100%; text-align:left; color: #FFFFFF\">Renewable Energy Share in total consumption Over Time</div>"
   ]
  },
  {
   "cell_type": "code",
   "execution_count": null,
   "id": "064f26d8",
   "metadata": {},
   "outputs": [],
   "source": [
    "# renewableShare = eu_df.loc[eu_df['Renewable energy share in the total final energy consumption (%)'].notnull(), ['Year', 'Renewable energy share in the total final energy consumption (%)']].sort_values('Year')"
   ]
  },
  {
   "cell_type": "code",
   "execution_count": null,
   "id": "7bc3d4f9",
   "metadata": {},
   "outputs": [],
   "source": [
    "# Getting the columns required for Trend analysis\n",
    "# grouping by 'Year' to get unique years and getting a mean of Renewable energy share... column to get a clean dataset\n",
    "# for timeseries analysis and finally sorting by 'Year'\n",
    "rnShare = eu[['Renewable energy share in the total final energy consumption (%)', 'Year']].groupby('Year').mean().sort_values('Year')"
   ]
  },
  {
   "cell_type": "code",
   "execution_count": null,
   "id": "039618ea",
   "metadata": {},
   "outputs": [],
   "source": [
    "rnShare.head()"
   ]
  },
  {
   "cell_type": "code",
   "execution_count": null,
   "id": "c239582c",
   "metadata": {},
   "outputs": [],
   "source": [
    "rnShare.describe()"
   ]
  },
  {
   "cell_type": "code",
   "execution_count": null,
   "id": "3c9437d3",
   "metadata": {},
   "outputs": [],
   "source": [
    "# Since we grouped by 'Year', the 'Year' column has become and index. \n",
    "rnShare.index.dtype"
   ]
  },
  {
   "cell_type": "code",
   "execution_count": null,
   "id": "92304bb2",
   "metadata": {},
   "outputs": [],
   "source": [
    "# Plotting\n",
    "plt.figure(figsize=[10,5])\n",
    "sns.lineplot(\n",
    "    data=rnShare,\n",
    "    x=rnShare.index,\n",
    "    y='Renewable energy share in the total final energy consumption (%)', \n",
    "    color=\"green\",\n",
    "    marker=\"o\")\n",
    "\n",
    "plt.title('Renewable Energy Share in Total Final Energy Consumption Over Time', fontdict={'fontsize':14})\n",
    "plt.xlabel('Year', )\n",
    "plt.ylabel('Renewable Energy Share (%)')\n",
    "plt.xticks(rnShare.index[::2])\n",
    "plt.yticks([0,10,20,30,40,50, 60,70])\n",
    "plt.show()"
   ]
  },
  {
   "cell_type": "markdown",
   "id": "ebf304dd",
   "metadata": {},
   "source": [
    "## <div style=\"border-radius:0px; border:#363636 solid; padding: 15px; background-color: #242F40; font-size:100%; text-align:left; color: #FFFFFF\">Percentage of electricity from low carbon sources over time</div>"
   ]
  },
  {
   "cell_type": "code",
   "execution_count": null,
   "id": "c1bb95f2",
   "metadata": {},
   "outputs": [],
   "source": [
    "lowCarbonElectricity = eu[['Low-carbon electricity (% electricity)', 'Year']].groupby('Year').mean().sort_values('Year')"
   ]
  },
  {
   "cell_type": "code",
   "execution_count": null,
   "id": "7202aea5",
   "metadata": {},
   "outputs": [],
   "source": [
    "lowCarbonElectricity.head()"
   ]
  },
  {
   "cell_type": "code",
   "execution_count": null,
   "id": "c52081b6",
   "metadata": {},
   "outputs": [],
   "source": [
    "# Plotting\n",
    "plt.figure(figsize=[10,5])\n",
    "sns.lineplot(\n",
    "    data=lowCarbonElectricity,\n",
    "    x=lowCarbonElectricity.index,\n",
    "    y='Low-carbon electricity (% electricity)', \n",
    "    color=\"green\",\n",
    "    marker=\"o\")\n",
    "\n",
    "plt.title('Percentage of electricity from low-carbon sources (nuclear and renewables) over time.', fontdict={'fontsize':14})\n",
    "plt.xlabel('Year', )\n",
    "plt.ylabel('Low-carbon electricity (% electricity)')\n",
    "plt.xticks(rnShare.index[::2])\n",
    "plt.yticks([0,10,20,30,40,50, 60,70])\n",
    "plt.show()"
   ]
  },
  {
   "cell_type": "markdown",
   "id": "ad06ebf3",
   "metadata": {},
   "source": [
    "## <div style=\"border-radius:0px; border:#363636 solid; padding: 15px; background-color: #242F40; font-size:100%; text-align:left; color: #FFFFFF\">Combined Renewable Energy Production and Consumption Over Time in Europe</div>"
   ]
  },
  {
   "cell_type": "code",
   "execution_count": null,
   "id": "872e0258",
   "metadata": {},
   "outputs": [],
   "source": [
    "# Plotting\n",
    "plt.figure(figsize=[10,5])\n",
    "sns.lineplot(\n",
    "    data=lowCarbonElectricity,\n",
    "    x=lowCarbonElectricity.index,\n",
    "    y='Low-carbon electricity (% electricity)',\n",
    "    label=\"Low-Carbon Electricity Production (%)\",\n",
    "    color=\"green\",\n",
    "    marker=\"o\")\n",
    "\n",
    "sns.lineplot(\n",
    "    data=rnShare,\n",
    "    x=rnShare.index,\n",
    "    y='Renewable energy share in the total final energy consumption (%)', \n",
    "    label=\"Renewable Energy Share in Total Consumption (%)\",\n",
    "    color=\"blue\",\n",
    "    marker=\"o\")\n",
    "\n",
    "plt.title('Renewable Share & Low Carbon Electricity Over Time.', fontdict={'fontsize':14})\n",
    "plt.xlabel('Year', )\n",
    "plt.ylabel('Percentage')\n",
    "plt.xticks(rnShare.index[::2])\n",
    "plt.yticks([0,10,20,30,40,50, 60,70])\n",
    "plt.legend()\n",
    "plt.savefig(\"combined-lowCarbon-trend.png\", dpi=300)\n",
    "plt.show()"
   ]
  },
  {
   "cell_type": "markdown",
   "id": "0c08f5e8",
   "metadata": {},
   "source": [
    "## <div style=\"border-radius:0px; border:#363636 solid; padding: 15px; background-color: #242F40; font-size:100%; text-align:left; color: #FFFFFF\">CO2 Emission over time in Europe</div>"
   ]
  },
  {
   "cell_type": "code",
   "execution_count": null,
   "id": "235a5587",
   "metadata": {},
   "outputs": [],
   "source": [
    "co2emmission = eu[['Value_co2_emissions_kt_by_country', 'Year']].groupby('Year').mean().sort_values('Year')"
   ]
  },
  {
   "cell_type": "code",
   "execution_count": null,
   "id": "d41a0d58",
   "metadata": {},
   "outputs": [],
   "source": [
    "plt.figure(figsize=[10,5])\n",
    "sns.lineplot(\n",
    "    data=co2emmission,\n",
    "    x=co2emmission.index,\n",
    "    y='Value_co2_emissions_kt_by_country', \n",
    "    color=\"green\",\n",
    "    marker=\"o\")\n",
    "\n",
    "plt.title('Europe CO2 Emmission over time', fontdict={'fontsize':14})\n",
    "plt.xlabel('Year', )\n",
    "plt.ylabel('CO2 Emmission in Kilo Tons Per Capita')\n",
    "plt.xticks(rnShare.index[::2])\n",
    "plt.savefig(\"co2-emmission.png\", dpi=300)\n",
    "plt.show()"
   ]
  },
  {
   "cell_type": "markdown",
   "id": "761610c5",
   "metadata": {},
   "source": [
    "## <div style=\"border-radius:0px; border:#363636 solid; padding: 15px; background-color: #242F40; font-size:100%; text-align:left; color: #FFFFFF\">Top 10 EU countries with highest energy consumption</div>"
   ]
  },
  {
   "cell_type": "code",
   "execution_count": null,
   "id": "d719f61a",
   "metadata": {},
   "outputs": [],
   "source": [
    "# Select relevant columns and drop any rows with missing values in 'Primary energy consumption per capita (kWh/person)'\n",
    "energyConsumptionData = eu_df[['Country', 'Year', 'Primary energy consumption per capita (kWh/person)']]\n",
    "\n",
    "# Get the latest year's data for each country\n",
    "latestEnergyConsumptionData = energyConsumptionData.loc[energyConsumptionData.groupby('Country')['Year'].idxmax()]\n",
    "\n",
    "# Sort the data to find the top 10 countries with the highest consumption\n",
    "top10EnergyConsumptionCountries = latestEnergyConsumptionData.nlargest(10, 'Primary energy consumption per capita (kWh/person)')\n",
    "\n",
    "# Display the prepared data\n",
    "top10EnergyConsumptionCountries"
   ]
  },
  {
   "cell_type": "code",
   "execution_count": null,
   "id": "f30ff3f7",
   "metadata": {},
   "outputs": [],
   "source": [
    "# Create the plot\n",
    "plt.figure(figsize=(12, 8))\n",
    "sns.barplot(x='Primary energy consumption per capita (kWh/person)', y='Country', data=top10EnergyConsumptionCountries,\n",
    "            palette=\"coolwarm_r\", orient='h')\n",
    "\n",
    "plt.xlabel('Primary Energy Consumption per Capita (kWh/person)')\n",
    "plt.title('Top 10 Countries by Primary Energy Consumption per Capita')\n",
    "plt.savefig('top-10', dpi=300)\n",
    "plt.show()"
   ]
  },
  {
   "cell_type": "markdown",
   "id": "e65230b5",
   "metadata": {},
   "source": [
    "## <div style=\"border-radius:0px; border:#363636 solid; padding: 15px; background-color: #242F40; font-size:100%; text-align:left; color: #FFFFFF\">Ranking and Categorization</div>"
   ]
  },
  {
   "cell_type": "markdown",
   "id": "25762be4",
   "metadata": {},
   "source": [
    "## Data Exploration"
   ]
  },
  {
   "cell_type": "code",
   "execution_count": null,
   "id": "adfee80d",
   "metadata": {},
   "outputs": [],
   "source": [
    "# Checking the number of countries we have the data for\n",
    "print(len(eu['Country'].unique()))"
   ]
  },
  {
   "cell_type": "code",
   "execution_count": null,
   "id": "c60cff45",
   "metadata": {},
   "outputs": [],
   "source": [
    "# Extracting 2020 data and checking country length\n",
    "data2020 = eu[eu['Year'] == 2020][['Country', 'Renewable energy share in the total final energy consumption (%)']]\n",
    "print(len(data2020['Country'].unique()))"
   ]
  },
  {
   "cell_type": "code",
   "execution_count": null,
   "id": "935f0fed",
   "metadata": {},
   "outputs": [],
   "source": [
    "# Dropping empty values from the dataset and checking country count\n",
    "data2020.dropna(subset=['Renewable energy share in the total final energy consumption (%)'], inplace=True)\n",
    "print(len(data2020['Country'].unique()))\n",
    "\n",
    "# After dropping empty values, only 35 countries remaining"
   ]
  },
  {
   "cell_type": "code",
   "execution_count": null,
   "id": "c844a785",
   "metadata": {},
   "outputs": [],
   "source": [
    "# Extracting 2019 data and checking country length\n",
    "data2019 = eu[eu['Year'] == 2019][['Country', 'Renewable energy share in the total final energy consumption (%)']]\n",
    "print(len(data2019['Country'].unique()))"
   ]
  },
  {
   "cell_type": "code",
   "execution_count": null,
   "id": "a6162db2",
   "metadata": {},
   "outputs": [],
   "source": [
    "# Dropping empty values from the dataset and checking country count\n",
    "data2019.dropna(subset=['Renewable energy share in the total final energy consumption (%)'], inplace=True)\n",
    "print(len(data2019['Country'].unique()))\n",
    "\n",
    "# Seems like its the same problem for 2019 dataset, some countries does not containes "
   ]
  },
  {
   "cell_type": "code",
   "execution_count": null,
   "id": "bfdcc51a",
   "metadata": {},
   "outputs": [],
   "source": [
    "# Extracting 2018 data and checking country length\n",
    "data2018 = eu[eu['Year'] == 2018][['Country', 'Renewable energy share in the total final energy consumption (%)']]\n",
    "print(len(data2018['Country'].unique()))"
   ]
  },
  {
   "cell_type": "code",
   "execution_count": null,
   "id": "6fd4e088",
   "metadata": {},
   "outputs": [],
   "source": [
    "data2018.dropna(subset=['Renewable energy share in the total final energy consumption (%)'], inplace=True)\n",
    "print(len(data2018['Country'].unique()))\n",
    "\n",
    "# And the same issue for 2018 data"
   ]
  },
  {
   "cell_type": "markdown",
   "id": "0af61a1e",
   "metadata": {},
   "source": [
    "### Checking which EU countries are not in out dataset"
   ]
  },
  {
   "cell_type": "code",
   "execution_count": null,
   "id": "782c97c1",
   "metadata": {},
   "outputs": [],
   "source": [
    "# Converting to pandas series\n",
    "euCountries = pd.Series(europeanCountries, name=\"euCountries\")"
   ]
  },
  {
   "cell_type": "code",
   "execution_count": null,
   "id": "ac9d5338",
   "metadata": {},
   "outputs": [],
   "source": [
    "# Eu Countries not in our dataset\n",
    "euCountries[~euCountries.isin(eu_df['Country'])]"
   ]
  },
  {
   "cell_type": "code",
   "execution_count": null,
   "id": "5570e562",
   "metadata": {},
   "outputs": [],
   "source": [
    "# Checking which further EU countries are not in the dataset after dropping null values\n",
    "euCountries[~euCountries.isin(data2020['Country'])]"
   ]
  },
  {
   "cell_type": "markdown",
   "id": "b1ef2f69",
   "metadata": {},
   "source": [
    "## Creating Ranks and Categories"
   ]
  },
  {
   "cell_type": "code",
   "execution_count": null,
   "id": "273ec937",
   "metadata": {},
   "outputs": [],
   "source": [
    "# Extracting 2019 data but Low-carbon electricity column this time\n",
    "eu2019 = eu[eu['Year'] == 2019][['Country', 'Renewable energy share in the total final energy consumption (%)', 'Value_co2_emissions_kt_by_country']]\n",
    "print(len(eu2019['Country'].unique()))"
   ]
  },
  {
   "cell_type": "code",
   "execution_count": null,
   "id": "5d452a21",
   "metadata": {},
   "outputs": [],
   "source": [
    "eu2019.info()"
   ]
  },
  {
   "cell_type": "code",
   "execution_count": null,
   "id": "c369879b",
   "metadata": {},
   "outputs": [],
   "source": [
    "eu2019[eu2019['Value_co2_emissions_kt_by_country'].isna()]"
   ]
  },
  {
   "cell_type": "code",
   "execution_count": null,
   "id": "0b566794",
   "metadata": {},
   "outputs": [],
   "source": [
    "eu2019.dropna(subset=['Value_co2_emissions_kt_by_country'], inplace=True)\n",
    "print(len(eu2019['Country'].unique()))"
   ]
  },
  {
   "cell_type": "code",
   "execution_count": null,
   "id": "9afa1ead",
   "metadata": {},
   "outputs": [],
   "source": [
    "eu2019.info()"
   ]
  },
  {
   "cell_type": "code",
   "execution_count": null,
   "id": "58a3254b",
   "metadata": {},
   "outputs": [],
   "source": [
    "eu2019[eu2019['Renewable energy share in the total final energy consumption (%)'].isna()]"
   ]
  },
  {
   "cell_type": "code",
   "execution_count": null,
   "id": "e1451b14",
   "metadata": {},
   "outputs": [],
   "source": [
    "eu2019.dropna(subset=['Renewable energy share in the total final energy consumption (%)'], inplace=True)\n",
    "print(len(eu2019['Country'].unique()))"
   ]
  },
  {
   "cell_type": "code",
   "execution_count": null,
   "id": "9498437f",
   "metadata": {},
   "outputs": [],
   "source": [
    "eu2019.info()"
   ]
  },
  {
   "cell_type": "markdown",
   "id": "fb68486b",
   "metadata": {},
   "source": [
    "## Creating Ranks and Categorizies"
   ]
  },
  {
   "cell_type": "code",
   "execution_count": null,
   "id": "69b76134",
   "metadata": {},
   "outputs": [],
   "source": [
    "eu2019.describe()"
   ]
  },
  {
   "cell_type": "code",
   "execution_count": null,
   "id": "70abc5a6",
   "metadata": {},
   "outputs": [],
   "source": [
    "# Creating z scores\n",
    "eu2019['Zs'] = zscore(eu2019['Renewable energy share in the total final energy consumption (%)'])\n",
    "eu2019.head()"
   ]
  },
  {
   "cell_type": "code",
   "execution_count": null,
   "id": "0ce95130",
   "metadata": {},
   "outputs": [],
   "source": [
    "eu2019['Zd'] = zscore(eu2019['Value_co2_emissions_kt_by_country'])\n",
    "eu2019.head()"
   ]
  },
  {
   "cell_type": "code",
   "execution_count": null,
   "id": "c906eeee",
   "metadata": {},
   "outputs": [],
   "source": [
    "eu2019['total score'] = eu2019['Zs'] - eu2019['Zd']\n",
    "eu2019.head()"
   ]
  },
  {
   "cell_type": "code",
   "execution_count": null,
   "id": "11684ad7",
   "metadata": {},
   "outputs": [],
   "source": [
    "eu2019Sorted = eu2019.sort_values('total score', ascending=False)\n",
    "eu2019Sorted.head()"
   ]
  },
  {
   "cell_type": "code",
   "execution_count": null,
   "id": "fe8441c2",
   "metadata": {},
   "outputs": [],
   "source": [
    "eu2019Sorted.describe()"
   ]
  },
  {
   "cell_type": "code",
   "execution_count": null,
   "id": "adb59795",
   "metadata": {},
   "outputs": [],
   "source": [
    "# Function to categorize based on total score\n",
    "firstQuartile = eu2019Sorted['total score'].quantile(0.25)\n",
    "secondQurtile = eu2019Sorted['total score'].quantile(0.50)\n",
    "thirdQuartile = eu2019Sorted['total score'].quantile(0.75)\n",
    "\n",
    "# print(firstQuantile)\n",
    "# print(secondQuantile)\n",
    "# print(thirdQuantile)\n",
    "\n",
    "def categorize(score):\n",
    "    if score <= firstQuartile: \n",
    "        return 'Low'\n",
    "    elif score <= secondQurtile: \n",
    "        return 'Medium Low'\n",
    "    elif score <= thirdQuartile: \n",
    "        return 'Medium High'\n",
    "    else:\n",
    "        return 'High'\n",
    "\n",
    "# Applying the categorization\n",
    "eu2019Sorted['Category'] = eu2019Sorted['total score'].apply(categorize)\n",
    "\n",
    "eu2019Sorted.head()"
   ]
  },
  {
   "cell_type": "code",
   "execution_count": null,
   "id": "9d283f6f",
   "metadata": {},
   "outputs": [],
   "source": [
    "# Creating a rank column\n",
    "eu2019Sorted['Rank'] = range(1, len(eu2019Sorted) + 1)\n",
    "eu2019Sorted.head()"
   ]
  },
  {
   "cell_type": "code",
   "execution_count": null,
   "id": "dd7ed5ed",
   "metadata": {},
   "outputs": [],
   "source": [
    "eu2019Sorted['Rank_Country'] = eu2019Sorted['Rank'].astype(str) + \"-\" + eu2019Sorted['Country']\n",
    "eu2019Sorted.head()"
   ]
  },
  {
   "cell_type": "code",
   "execution_count": null,
   "id": "b995ed0d",
   "metadata": {},
   "outputs": [],
   "source": [
    "# Creating the plot\n",
    "plt.figure(figsize=(10,15))\n",
    "sns.barplot(x='total score', y='Rank_Country', data=eu2019Sorted, hue='Category', dodge=False, palette=\"viridis_r\")\n",
    "plt.title('Ranking of Countries Based on Total Final Score')\n",
    "plt.xlabel('Total Score')\n",
    "plt.ylabel('Country with Rank')\n",
    "plt.legend(title='Category')\n",
    "plt.savefig('ranking and classification.png', dpi=300)\n",
    "plt.show()"
   ]
  },
  {
   "cell_type": "markdown",
   "id": "5b3326ec",
   "metadata": {},
   "source": [
    "## <div style=\"border-radius:0px; border:#363636 solid; padding: 15px; background-color: #242F40; font-size:100%; text-align:left; color: #FFFFFF\">Scatter plot of Co2 Emission and Low Carbon Electricity %</div>"
   ]
  },
  {
   "cell_type": "code",
   "execution_count": null,
   "id": "506d7fed",
   "metadata": {},
   "outputs": [],
   "source": [
    "LCvsCo2 = eu_df[['Low-carbon electricity (% electricity)', 'Value_co2_emissions_kt_by_country', 'Population Density (P/Km2)']]"
   ]
  },
  {
   "cell_type": "code",
   "execution_count": null,
   "id": "07c7af5d",
   "metadata": {},
   "outputs": [],
   "source": [
    "LCvsCo2.info()"
   ]
  },
  {
   "cell_type": "code",
   "execution_count": null,
   "id": "69e42038",
   "metadata": {},
   "outputs": [],
   "source": [
    "LCvsCo2['Population Density (P/Km2)'] = pd.to_numeric(LCvsCo2['Population Density (P/Km2)'], errors='coerce')"
   ]
  },
  {
   "cell_type": "code",
   "execution_count": null,
   "id": "90681730",
   "metadata": {},
   "outputs": [],
   "source": [
    "LCvsCo2.info()"
   ]
  },
  {
   "cell_type": "code",
   "execution_count": null,
   "id": "19132ff9",
   "metadata": {},
   "outputs": [],
   "source": [
    "# Creating the scatter plot with regression line\n",
    "plt.figure(figsize=(12, 8))\n",
    "sns.regplot(\n",
    "    x='Low-carbon electricity (% electricity)',\n",
    "    y='Value_co2_emissions_kt_by_country',\n",
    "    data=LCvsCo2,\n",
    "    y_partial = 'Population Density (P/Km2)',\n",
    "    scatter_kws={'alpha':0.5},\n",
    "    marker=\"x\",\n",
    "    line_kws={'color':'red'})\n",
    "plt.title('Correlation between Co2 emission in metric tons and Low-carbon electricity (%)')\n",
    "plt.xlabel('Low-carbon electricity (% electricity)')\n",
    "plt.ylabel('Value CO2 Emissions (kt) by Country')\n",
    "# plt.yticks(np.arange(0, 600000, 100000))\n",
    "plt.savefig('regression', dpi=300)\n",
    "plt.show()"
   ]
  },
  {
   "cell_type": "markdown",
   "id": "7ff3995d",
   "metadata": {},
   "source": [
    "## <div style=\"border-radius:0px; border:#363636 solid; padding: 15px; background-color: #242F40; font-size:100%; text-align:left; color: #FFFFFF\">Declaration of Generative AI Use</div>"
   ]
  },
  {
   "cell_type": "markdown",
   "id": "8d9864eb",
   "metadata": {},
   "source": [
    "Generative AI primarily chatGPT was used throughout the project as an assistant tool. It was used to improve productivity, reliability and efficency while respecting the acadimic conduct. It was utilized in the following ways:\n",
    "\n",
    "1. It was used as an alternative to python documentation in order to save time, where necessory, on acheiving basic tasks such as changing column name, sorting columns, visualizing null values. In doing so, chatGPT was given a prompt to explain how a certain task is acheived. The responses given by chatGPT improved my understanding of Python, Pandas and Matplotlib. Building on that understanding, I wrote my own code to acheive my project objectives. \n",
    "2. It was used to improve my basic understanding of certain concepts. For example when I found a concept difficult to understand, I asked chatGPT to explain it to me in layman terms. The explaination gived by GPT improved my understanding which in trun helped me write better code. \n",
    "3. In certain cased, it was used to generate python functions to acheive a specific task. For example, it was used to write a funciton that create a categoty column based on different quantiles of Z-scores.\n",
    "\n",
    "The above notebook is a creation of my own mind. ChatGPT was used as an extension to it in the ways listed above. The creation of the above code involves proper understanding of the underling concepts, careful thinking and problem solving along with many hours spent on improving understanding of concepts, observation, contempulation and solving of problems."
   ]
  }
 ],
 "metadata": {
  "kernelspec": {
   "display_name": "Python 3 (ipykernel)",
   "language": "python",
   "name": "python3"
  },
  "language_info": {
   "codemirror_mode": {
    "name": "ipython",
    "version": 3
   },
   "file_extension": ".py",
   "mimetype": "text/x-python",
   "name": "python",
   "nbconvert_exporter": "python",
   "pygments_lexer": "ipython3",
   "version": "3.11.1"
  }
 },
 "nbformat": 4,
 "nbformat_minor": 5
}
